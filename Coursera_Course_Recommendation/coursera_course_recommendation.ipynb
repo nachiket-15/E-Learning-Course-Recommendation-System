{
 "cells": [
  {
   "cell_type": "code",
   "execution_count": 1,
   "metadata": {},
   "outputs": [],
   "source": [
    "import pandas as pd\n",
    "import numpy as np\n",
    "from langdetect import detect"
   ]
  },
  {
   "cell_type": "code",
   "execution_count": 2,
   "metadata": {},
   "outputs": [],
   "source": [
    "data=pd.read_csv('coursera_data.csv')"
   ]
  },
  {
   "cell_type": "code",
   "execution_count": 3,
   "metadata": {},
   "outputs": [
    {
     "data": {
      "text/html": [
       "<div>\n",
       "<style scoped>\n",
       "    .dataframe tbody tr th:only-of-type {\n",
       "        vertical-align: middle;\n",
       "    }\n",
       "\n",
       "    .dataframe tbody tr th {\n",
       "        vertical-align: top;\n",
       "    }\n",
       "\n",
       "    .dataframe thead th {\n",
       "        text-align: right;\n",
       "    }\n",
       "</style>\n",
       "<table border=\"1\" class=\"dataframe\">\n",
       "  <thead>\n",
       "    <tr style=\"text-align: right;\">\n",
       "      <th></th>\n",
       "      <th>Course_Name</th>\n",
       "      <th>Company_Offering</th>\n",
       "      <th>Skills_Gained</th>\n",
       "      <th>Ratings</th>\n",
       "      <th>Number_of_Ratings</th>\n",
       "      <th>Course_Link</th>\n",
       "    </tr>\n",
       "  </thead>\n",
       "  <tbody>\n",
       "    <tr>\n",
       "      <th>0</th>\n",
       "      <td>Google Data Analytics</td>\n",
       "      <td>Google</td>\n",
       "      <td>Data Analysis, Spreadsheets, SQL (Programming ...</td>\n",
       "      <td>4.8</td>\n",
       "      <td>142000</td>\n",
       "      <td>https://www.coursera.org/professional-certific...</td>\n",
       "    </tr>\n",
       "    <tr>\n",
       "      <th>1</th>\n",
       "      <td>Google Cybersecurity</td>\n",
       "      <td>Google</td>\n",
       "      <td>Cybersecurity, Incident Response, Network Secu...</td>\n",
       "      <td>4.8</td>\n",
       "      <td>27000</td>\n",
       "      <td>https://www.coursera.org/professional-certific...</td>\n",
       "    </tr>\n",
       "    <tr>\n",
       "      <th>2</th>\n",
       "      <td>Google Project Management:</td>\n",
       "      <td>Google</td>\n",
       "      <td>Project Management, Operations Management, Str...</td>\n",
       "      <td>4.8</td>\n",
       "      <td>105000</td>\n",
       "      <td>https://www.coursera.org/professional-certific...</td>\n",
       "    </tr>\n",
       "    <tr>\n",
       "      <th>3</th>\n",
       "      <td>IBM Data Science</td>\n",
       "      <td>IBM</td>\n",
       "      <td>Python (Programming Language), Data Science, S...</td>\n",
       "      <td>4.6</td>\n",
       "      <td>124000</td>\n",
       "      <td>https://www.coursera.org/professional-certific...</td>\n",
       "    </tr>\n",
       "    <tr>\n",
       "      <th>4</th>\n",
       "      <td>Google Digital Marketing &amp; E-commerce</td>\n",
       "      <td>Google</td>\n",
       "      <td>Digital Marketing, Marketing, Marketing Manage...</td>\n",
       "      <td>4.8</td>\n",
       "      <td>25000</td>\n",
       "      <td>https://www.coursera.org/professional-certific...</td>\n",
       "    </tr>\n",
       "  </tbody>\n",
       "</table>\n",
       "</div>"
      ],
      "text/plain": [
       "                             Course_Name Company_Offering  \\\n",
       "0                  Google Data Analytics           Google   \n",
       "1                   Google Cybersecurity           Google   \n",
       "2             Google Project Management:           Google   \n",
       "3                       IBM Data Science              IBM   \n",
       "4  Google Digital Marketing & E-commerce           Google   \n",
       "\n",
       "                                       Skills_Gained  Ratings  \\\n",
       "0  Data Analysis, Spreadsheets, SQL (Programming ...      4.8   \n",
       "1  Cybersecurity, Incident Response, Network Secu...      4.8   \n",
       "2  Project Management, Operations Management, Str...      4.8   \n",
       "3  Python (Programming Language), Data Science, S...      4.6   \n",
       "4  Digital Marketing, Marketing, Marketing Manage...      4.8   \n",
       "\n",
       "   Number_of_Ratings                                        Course_Link  \n",
       "0             142000  https://www.coursera.org/professional-certific...  \n",
       "1              27000  https://www.coursera.org/professional-certific...  \n",
       "2             105000  https://www.coursera.org/professional-certific...  \n",
       "3             124000  https://www.coursera.org/professional-certific...  \n",
       "4              25000  https://www.coursera.org/professional-certific...  "
      ]
     },
     "execution_count": 3,
     "metadata": {},
     "output_type": "execute_result"
    }
   ],
   "source": [
    "data.head()"
   ]
  },
  {
   "cell_type": "code",
   "execution_count": 4,
   "metadata": {},
   "outputs": [
    {
     "name": "stdout",
     "output_type": "stream",
     "text": [
      "<class 'pandas.core.frame.DataFrame'>\n",
      "RangeIndex: 1000 entries, 0 to 999\n",
      "Data columns (total 6 columns):\n",
      " #   Column             Non-Null Count  Dtype  \n",
      "---  ------             --------------  -----  \n",
      " 0   Course_Name        1000 non-null   object \n",
      " 1   Company_Offering   1000 non-null   object \n",
      " 2   Skills_Gained      887 non-null    object \n",
      " 3   Ratings            994 non-null    float64\n",
      " 4   Number_of_Ratings  1000 non-null   int64  \n",
      " 5   Course_Link        1000 non-null   object \n",
      "dtypes: float64(1), int64(1), object(4)\n",
      "memory usage: 47.0+ KB\n",
      "None\n"
     ]
    }
   ],
   "source": [
    "print(data.info())\n"
   ]
  },
  {
   "cell_type": "code",
   "execution_count": 5,
   "metadata": {},
   "outputs": [
    {
     "name": "stdout",
     "output_type": "stream",
     "text": [
      "          Ratings  Number_of_Ratings\n",
      "count  994.000000        1000.000000\n",
      "mean     4.670322        8571.915000\n",
      "std      0.198165       20198.277126\n",
      "min      2.700000           0.000000\n",
      "25%      4.600000         488.500000\n",
      "50%      4.700000        3000.000000\n",
      "75%      4.800000        8000.000000\n",
      "max      5.000000      270000.000000\n"
     ]
    }
   ],
   "source": [
    "print(data.describe())"
   ]
  },
  {
   "cell_type": "code",
   "execution_count": 6,
   "metadata": {},
   "outputs": [
    {
     "name": "stdout",
     "output_type": "stream",
     "text": [
      "Missing values:\n",
      "Course_Name            0\n",
      "Company_Offering       0\n",
      "Skills_Gained        113\n",
      "Ratings                6\n",
      "Number_of_Ratings      0\n",
      "Course_Link            0\n",
      "dtype: int64\n"
     ]
    }
   ],
   "source": [
    "print(\"Missing values:\")\n",
    "print(data.isnull().sum())"
   ]
  },
  {
   "cell_type": "code",
   "execution_count": 7,
   "metadata": {},
   "outputs": [],
   "source": [
    "data['Ratings'].fillna(data['Ratings'].median(), inplace=True)\n",
    "\n",
    "\n",
    "data['Skills_Gained'].fillna('Unknown', inplace=True)"
   ]
  },
  {
   "cell_type": "code",
   "execution_count": 8,
   "metadata": {},
   "outputs": [
    {
     "name": "stdout",
     "output_type": "stream",
     "text": [
      "Missing values:\n",
      "Course_Name          0\n",
      "Company_Offering     0\n",
      "Skills_Gained        0\n",
      "Ratings              0\n",
      "Number_of_Ratings    0\n",
      "Course_Link          0\n",
      "dtype: int64\n"
     ]
    }
   ],
   "source": [
    "print(\"Missing values:\")\n",
    "print(data.isnull().sum())"
   ]
  },
  {
   "cell_type": "code",
   "execution_count": 9,
   "metadata": {},
   "outputs": [],
   "source": [
    "data['Number_of_Ratings'].fillna(0, inplace=True)"
   ]
  },
  {
   "cell_type": "code",
   "execution_count": 10,
   "metadata": {},
   "outputs": [
    {
     "name": "stdout",
     "output_type": "stream",
     "text": [
      "Missing values:\n",
      "Course_Name          0\n",
      "Company_Offering     0\n",
      "Skills_Gained        0\n",
      "Ratings              0\n",
      "Number_of_Ratings    0\n",
      "Course_Link          0\n",
      "dtype: int64\n"
     ]
    }
   ],
   "source": [
    "print(\"Missing values:\")\n",
    "print(data.isnull().sum())"
   ]
  },
  {
   "cell_type": "code",
   "execution_count": 11,
   "metadata": {},
   "outputs": [],
   "source": [
    "def detect_language(text):\n",
    "    try:\n",
    "        language = detect(text)\n",
    "        return language\n",
    "    except:\n",
    "        return 'unknown'"
   ]
  },
  {
   "cell_type": "code",
   "execution_count": 12,
   "metadata": {},
   "outputs": [
    {
     "data": {
      "text/html": [
       "<div>\n",
       "<style scoped>\n",
       "    .dataframe tbody tr th:only-of-type {\n",
       "        vertical-align: middle;\n",
       "    }\n",
       "\n",
       "    .dataframe tbody tr th {\n",
       "        vertical-align: top;\n",
       "    }\n",
       "\n",
       "    .dataframe thead th {\n",
       "        text-align: right;\n",
       "    }\n",
       "</style>\n",
       "<table border=\"1\" class=\"dataframe\">\n",
       "  <thead>\n",
       "    <tr style=\"text-align: right;\">\n",
       "      <th></th>\n",
       "      <th>Course_Name</th>\n",
       "      <th>Company_Offering</th>\n",
       "      <th>Skills_Gained</th>\n",
       "      <th>Ratings</th>\n",
       "      <th>Number_of_Ratings</th>\n",
       "      <th>Course_Link</th>\n",
       "    </tr>\n",
       "  </thead>\n",
       "  <tbody>\n",
       "    <tr>\n",
       "      <th>0</th>\n",
       "      <td>Google Data Analytics</td>\n",
       "      <td>Google</td>\n",
       "      <td>Data Analysis, Spreadsheets, SQL (Programming ...</td>\n",
       "      <td>4.8</td>\n",
       "      <td>142000</td>\n",
       "      <td>https://www.coursera.org/professional-certific...</td>\n",
       "    </tr>\n",
       "    <tr>\n",
       "      <th>1</th>\n",
       "      <td>Google Cybersecurity</td>\n",
       "      <td>Google</td>\n",
       "      <td>Cybersecurity, Incident Response, Network Secu...</td>\n",
       "      <td>4.8</td>\n",
       "      <td>27000</td>\n",
       "      <td>https://www.coursera.org/professional-certific...</td>\n",
       "    </tr>\n",
       "    <tr>\n",
       "      <th>2</th>\n",
       "      <td>Google Project Management:</td>\n",
       "      <td>Google</td>\n",
       "      <td>Project Management, Operations Management, Str...</td>\n",
       "      <td>4.8</td>\n",
       "      <td>105000</td>\n",
       "      <td>https://www.coursera.org/professional-certific...</td>\n",
       "    </tr>\n",
       "    <tr>\n",
       "      <th>3</th>\n",
       "      <td>IBM Data Science</td>\n",
       "      <td>IBM</td>\n",
       "      <td>Python (Programming Language), Data Science, S...</td>\n",
       "      <td>4.6</td>\n",
       "      <td>124000</td>\n",
       "      <td>https://www.coursera.org/professional-certific...</td>\n",
       "    </tr>\n",
       "    <tr>\n",
       "      <th>4</th>\n",
       "      <td>Google Digital Marketing &amp; E-commerce</td>\n",
       "      <td>Google</td>\n",
       "      <td>Digital Marketing, Marketing, Marketing Manage...</td>\n",
       "      <td>4.8</td>\n",
       "      <td>25000</td>\n",
       "      <td>https://www.coursera.org/professional-certific...</td>\n",
       "    </tr>\n",
       "  </tbody>\n",
       "</table>\n",
       "</div>"
      ],
      "text/plain": [
       "                             Course_Name Company_Offering  \\\n",
       "0                  Google Data Analytics           Google   \n",
       "1                   Google Cybersecurity           Google   \n",
       "2             Google Project Management:           Google   \n",
       "3                       IBM Data Science              IBM   \n",
       "4  Google Digital Marketing & E-commerce           Google   \n",
       "\n",
       "                                       Skills_Gained  Ratings  \\\n",
       "0  Data Analysis, Spreadsheets, SQL (Programming ...      4.8   \n",
       "1  Cybersecurity, Incident Response, Network Secu...      4.8   \n",
       "2  Project Management, Operations Management, Str...      4.8   \n",
       "3  Python (Programming Language), Data Science, S...      4.6   \n",
       "4  Digital Marketing, Marketing, Marketing Manage...      4.8   \n",
       "\n",
       "   Number_of_Ratings                                        Course_Link  \n",
       "0             142000  https://www.coursera.org/professional-certific...  \n",
       "1              27000  https://www.coursera.org/professional-certific...  \n",
       "2             105000  https://www.coursera.org/professional-certific...  \n",
       "3             124000  https://www.coursera.org/professional-certific...  \n",
       "4              25000  https://www.coursera.org/professional-certific...  "
      ]
     },
     "execution_count": 12,
     "metadata": {},
     "output_type": "execute_result"
    }
   ],
   "source": [
    "data.head(5)"
   ]
  },
  {
   "cell_type": "code",
   "execution_count": 13,
   "metadata": {},
   "outputs": [],
   "source": [
    "data['tags']=data['Course_Name']+','+data['Skills_Gained']"
   ]
  },
  {
   "cell_type": "code",
   "execution_count": 14,
   "metadata": {},
   "outputs": [
    {
     "data": {
      "text/plain": [
       "'Google Data Analytics,Data Analysis, Spreadsheets, SQL (Programming Language), Data Visualization, R (Programming Language), Data Cleansing, Business Communication, Business Communications, Data Integrity, Tableau (Business Intelligence Software), Data Quality, Advanced Analytics, Analysis, Analytics, Business Analysis, Data Collection, Data Management, Graphing, Information Privacy, Relational Databases, Statistical Graphics, Statistics, Teamwork, Text Mining, Unstructured Data'"
      ]
     },
     "execution_count": 14,
     "metadata": {},
     "output_type": "execute_result"
    }
   ],
   "source": [
    "new_df=data[['Course_Name','tags']]\n",
    "new_df['tags'][0]"
   ]
  },
  {
   "cell_type": "code",
   "execution_count": 15,
   "metadata": {},
   "outputs": [
    {
     "name": "stderr",
     "output_type": "stream",
     "text": [
      "/tmp/ipykernel_26985/3714198266.py:1: SettingWithCopyWarning: \n",
      "A value is trying to be set on a copy of a slice from a DataFrame.\n",
      "Try using .loc[row_indexer,col_indexer] = value instead\n",
      "\n",
      "See the caveats in the documentation: https://pandas.pydata.org/pandas-docs/stable/user_guide/indexing.html#returning-a-view-versus-a-copy\n",
      "  new_df.loc[:, 'tags'] = new_df['tags'].str.replace(',', ' ')\n",
      "/tmp/ipykernel_26985/3714198266.py:2: SettingWithCopyWarning: \n",
      "A value is trying to be set on a copy of a slice from a DataFrame.\n",
      "Try using .loc[row_indexer,col_indexer] = value instead\n",
      "\n",
      "See the caveats in the documentation: https://pandas.pydata.org/pandas-docs/stable/user_guide/indexing.html#returning-a-view-versus-a-copy\n",
      "  new_df.loc[:, 'tags'] = new_df['tags'].str.replace('  ', ' ')\n"
     ]
    }
   ],
   "source": [
    "new_df.loc[:, 'tags'] = new_df['tags'].str.replace(',', ' ')\n",
    "new_df.loc[:, 'tags'] = new_df['tags'].str.replace('  ', ' ')"
   ]
  },
  {
   "cell_type": "code",
   "execution_count": 16,
   "metadata": {},
   "outputs": [
    {
     "data": {
      "text/plain": [
       "'Google Data Analytics Data Analysis Spreadsheets SQL (Programming Language) Data Visualization R (Programming Language) Data Cleansing Business Communication Business Communications Data Integrity Tableau (Business Intelligence Software) Data Quality Advanced Analytics Analysis Analytics Business Analysis Data Collection Data Management Graphing Information Privacy Relational Databases Statistical Graphics Statistics Teamwork Text Mining Unstructured Data'"
      ]
     },
     "execution_count": 16,
     "metadata": {},
     "output_type": "execute_result"
    }
   ],
   "source": [
    "new_df['tags'][0]"
   ]
  },
  {
   "cell_type": "code",
   "execution_count": 17,
   "metadata": {},
   "outputs": [],
   "source": [
    "from sklearn.feature_extraction.text import CountVectorizer"
   ]
  },
  {
   "cell_type": "code",
   "execution_count": 39,
   "metadata": {},
   "outputs": [],
   "source": [
    "cv = CountVectorizer(max_features=15000,stop_words='english')"
   ]
  },
  {
   "cell_type": "code",
   "execution_count": 40,
   "metadata": {},
   "outputs": [],
   "source": [
    "vectors = cv.fit_transform(new_df['tags']).toarray()"
   ]
  },
  {
   "cell_type": "code",
   "execution_count": 41,
   "metadata": {},
   "outputs": [
    {
     "name": "stdout",
     "output_type": "stream",
     "text": [
      "[[0 0 0 ... 0 0 0]\n",
      " [0 0 0 ... 0 0 0]\n",
      " [0 0 0 ... 0 0 0]\n",
      " ...\n",
      " [0 0 0 ... 0 0 0]\n",
      " [0 0 0 ... 0 0 0]\n",
      " [0 0 0 ... 0 0 0]]\n"
     ]
    }
   ],
   "source": [
    "print(vectors)"
   ]
  },
  {
   "cell_type": "code",
   "execution_count": 42,
   "metadata": {},
   "outputs": [],
   "source": [
    "import nltk"
   ]
  },
  {
   "cell_type": "code",
   "execution_count": 43,
   "metadata": {},
   "outputs": [],
   "source": [
    "from nltk.stem.porter import PorterStemmer\n",
    "ps = PorterStemmer()"
   ]
  },
  {
   "cell_type": "code",
   "execution_count": 44,
   "metadata": {},
   "outputs": [],
   "source": [
    "def stem(text):\n",
    "    y=[]\n",
    "\n",
    "    for i in text.split():\n",
    "        y.append(ps.stem(i))\n",
    "\n",
    "    return \" \".join(y)"
   ]
  },
  {
   "cell_type": "code",
   "execution_count": 45,
   "metadata": {},
   "outputs": [
    {
     "name": "stderr",
     "output_type": "stream",
     "text": [
      "/tmp/ipykernel_26985/3741851974.py:1: SettingWithCopyWarning: \n",
      "A value is trying to be set on a copy of a slice from a DataFrame.\n",
      "Try using .loc[row_indexer,col_indexer] = value instead\n",
      "\n",
      "See the caveats in the documentation: https://pandas.pydata.org/pandas-docs/stable/user_guide/indexing.html#returning-a-view-versus-a-copy\n",
      "  new_df['tags'] = new_df['tags'].apply(stem) #applying stemming on the tags column\n"
     ]
    }
   ],
   "source": [
    "new_df['tags'] = new_df['tags'].apply(stem) #applying stemming on the tags column"
   ]
  },
  {
   "cell_type": "code",
   "execution_count": 46,
   "metadata": {},
   "outputs": [],
   "source": [
    "from sklearn.metrics.pairwise import cosine_similarity"
   ]
  },
  {
   "cell_type": "code",
   "execution_count": 47,
   "metadata": {},
   "outputs": [],
   "source": [
    "similarity = cosine_similarity(vectors)"
   ]
  },
  {
   "cell_type": "code",
   "execution_count": 49,
   "metadata": {},
   "outputs": [
    {
     "data": {
      "text/plain": [
       "array([[1.        , 0.15770888, 0.17865525, ..., 0.02838665, 0.2908008 ,\n",
       "        0.25286087],\n",
       "       [0.15770888, 1.        , 0.30630941, ..., 0.13384167, 0.03337392,\n",
       "        0.05610479],\n",
       "       [0.17865525, 0.30630941, 1.        , ..., 0.01567531, 0.01661196,\n",
       "        0.20944737],\n",
       "       ...,\n",
       "       [0.02838665, 0.13384167, 0.01567531, ..., 1.        , 0.59520387,\n",
       "        0.02440477],\n",
       "       [0.2908008 , 0.03337392, 0.01661196, ..., 0.59520387, 1.        ,\n",
       "        0.02586303],\n",
       "       [0.25286087, 0.05610479, 0.20944737, ..., 0.02440477, 0.02586303,\n",
       "        1.        ]])"
      ]
     },
     "execution_count": 49,
     "metadata": {},
     "output_type": "execute_result"
    }
   ],
   "source": [
    "similarity"
   ]
  },
  {
   "cell_type": "code",
   "execution_count": 53,
   "metadata": {},
   "outputs": [
    {
     "name": "stdout",
     "output_type": "stream",
     "text": [
      "Recommended Courses:\n",
      "Business Data Management and Communication\n",
      "IBM Data Analyst\n",
      "Foundations: Data, Data, Everywhere\n",
      "Prepare Data for Exploration\n",
      "Applied Data Science with R\n",
      "IBM Business Intelligence (BI) Analyst\n",
      "Data Literacy: Exploring and Visualizing Data\n",
      "Excel Skills for Business\n",
      "Data Analysis and Visualization Foundations\n",
      "Introduction to Data Analytics\n",
      "SAS Visual Business Analytics\n",
      "Excel Skills for Data Analytics and Visualization\n",
      "Google Data Analytics Capstone: Complete a Case Study\n",
      "Process Data from Dirty to Clean\n"
     ]
    }
   ],
   "source": [
    "def recommend(course, rating_weight=0.5):\n",
    "    course_index = new_df[new_df['Course_Name'] == course].index[0]\n",
    "\n",
    "    distances = similarity[course_index]\n",
    "\n",
    "    ratings = data['Ratings']\n",
    "\n",
    "    ratings_numeric = pd.to_numeric(ratings, errors='coerce')\n",
    "\n",
    "    ratings_numeric.fillna(0, inplace=True)\n",
    "    \n",
    "    normalized_ratings = (ratings_numeric - ratings_numeric.min()) / (ratings_numeric.max() - ratings_numeric.min())\n",
    "    rating_similarity = cosine_similarity([normalized_ratings])[0]\n",
    "\n",
    "    combined_similarity = (1 - rating_weight) * distances + rating_weight * rating_similarity\n",
    "    course_list = sorted(list(enumerate(combined_similarity)), reverse=True, key=lambda x: x[1])[1:15]\n",
    "\n",
    "    print(\"Recommended Courses:\")\n",
    "    for i in course_list:\n",
    "        recommended_course_name = new_df.iloc[i[0]]['Course_Name']\n",
    "        print(recommended_course_name)\n",
    "\n",
    "\n",
    "\n",
    "recommend('Google Data Analytics')\n"
   ]
  },
  {
   "cell_type": "code",
   "execution_count": null,
   "metadata": {},
   "outputs": [],
   "source": []
  }
 ],
 "metadata": {
  "kernelspec": {
   "display_name": "Python 3",
   "language": "python",
   "name": "python3"
  },
  "language_info": {
   "codemirror_mode": {
    "name": "ipython",
    "version": 3
   },
   "file_extension": ".py",
   "mimetype": "text/x-python",
   "name": "python",
   "nbconvert_exporter": "python",
   "pygments_lexer": "ipython3",
   "version": "3.10.12"
  }
 },
 "nbformat": 4,
 "nbformat_minor": 2
}
